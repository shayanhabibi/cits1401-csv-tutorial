{
 "cells": [
  {
   "cell_type": "markdown",
   "id": "da42fea3-bffc-4a07-b7a7-539e2c1faa95",
   "metadata": {},
   "source": [
    "# Recursion\n",
    "\n",
    "The exam for CITS1401 will include a fair amount of recursion according to the sample exam paper and other peoples past experience with the unit.\n",
    "\n",
    "So it is a really good idea to nail these concepts down.\n",
    "\n",
    "I've written this notebook for my own practice. There are a series of questions and exercises from the internet. Try to answer within the cells without testing the code until the end. If you need help, I provide my own two cents on how I approach the problems and solve for them.\n",
    "\n",
    "Remember when writing recursive functions/solutions, you have to ensure that there is a 'stop' or a 'base case' which ends the function calls. As an example, the base of fibonaccis sequence is 1 = 1 + 0.\n",
    "\n",
    "----\n",
    "\n",
    "## Using the notebook\n",
    "\n",
    "Write your answer in the first cell after the question. Run it, and then run the cell following it to see if your function performed as expected.\n",
    "\n",
    "----"
   ]
  },
  {
   "cell_type": "markdown",
   "id": "306af745-3e4b-4ea1-92da-b8cfc4b58a3f",
   "metadata": {},
   "source": [
    "### Question 1\n",
    "\n",
    "Write a recursive function that takes in one argument n and computes Fn, the nth value of the Fibonacci sequence."
   ]
  },
  {
   "cell_type": "code",
   "execution_count": null,
   "id": "bc5a2031-c79a-4221-9ba5-096621d262b3",
   "metadata": {},
   "outputs": [],
   "source": [
    "def fibonacci(n):\n",
    "    # write your code here\n",
    "    pass"
   ]
  },
  {
   "cell_type": "code",
   "execution_count": null,
   "id": "bfa9327e-1776-47be-857e-a3e1aa7dd225",
   "metadata": {},
   "outputs": [],
   "source": [
    "assert fibonacci(1) == 1\n",
    "print('Correct, good job!')"
   ]
  },
  {
   "cell_type": "markdown",
   "id": "b627a47d-b5e6-48d2-a7ba-fb09a6e2df0c",
   "metadata": {},
   "source": [
    "### Question 2\n",
    "\n",
    "Write a recursive function that takes in one argument n, and returns a list of the fibonacci sequence up to and including the nth value."
   ]
  },
  {
   "cell_type": "code",
   "execution_count": null,
   "id": "186346dc-eea7-4f43-972b-ecc38fccfc1a",
   "metadata": {},
   "outputs": [],
   "source": [
    "def fibonacci(n):\n",
    "    # write your code here\n",
    "    pass"
   ]
  },
  {
   "cell_type": "code",
   "execution_count": null,
   "id": "26f7d901-03a9-40cd-a660-94fdf917f66a",
   "metadata": {},
   "outputs": [],
   "source": [
    "assert fibonacci(1) == [0,1] or fibonacci(1) == [1]\n",
    "assert fibonacci(4) == [0,1,1,2,3] or fibonacci(1) == [1,1,2,3]\n",
    "print('Correct, good job!')"
   ]
  },
  {
   "cell_type": "markdown",
   "id": "4cf94cad-990a-4a28-aa12-ce38cbadf898",
   "metadata": {},
   "source": [
    "### Question 3\n",
    "\n",
    "Write a recursive function which takes in a string, and returns the string in reverse. The only string operation you can perform if required is concatenation (adding one string to another)."
   ]
  },
  {
   "cell_type": "code",
   "execution_count": null,
   "id": "daa3380c-051a-4455-a72d-6991d93a5e22",
   "metadata": {},
   "outputs": [],
   "source": [
    "def reverse(string):\n",
    "    # Write your code here"
   ]
  },
  {
   "cell_type": "code",
   "execution_count": null,
   "id": "34a4b82e-46d2-4162-ac83-9b293ceb2668",
   "metadata": {},
   "outputs": [],
   "source": [
    "assert reverse('pie') == 'eip'\n",
    "assert reverse('n2nl  fd') == 'df  ln2n'\n",
    "print('Correct, good job!')"
   ]
  },
  {
   "cell_type": "markdown",
   "id": "ad72e171-bc08-4a78-a5ac-189404505a40",
   "metadata": {},
   "source": [
    "### Question 4\n",
    "\n",
    "Write a recursive function that calculates the factorial of n"
   ]
  },
  {
   "cell_type": "code",
   "execution_count": null,
   "id": "ca192c78-189c-42fd-bd8e-2e9b80415af0",
   "metadata": {},
   "outputs": [],
   "source": [
    "def factorial(n):\n",
    "    # Write your code here\n",
    "    pass"
   ]
  },
  {
   "cell_type": "code",
   "execution_count": null,
   "id": "1d608494-84db-47ed-9dd5-16a2b2ec355f",
   "metadata": {},
   "outputs": [],
   "source": [
    "assert factorial(0) == 1\n",
    "assert factorial (4) == 24 \n",
    "print('Correct, good job!')"
   ]
  },
  {
   "cell_type": "markdown",
   "id": "0c6ec22e-57bd-4ba5-8f9d-1047830e0c76",
   "metadata": {},
   "source": [
    "## Question 5 (2017 CITS 1401 Exam)\n",
    "\n",
    "Write a definition for the function merge(list1, list2), that, given two\n",
    "lists: list1 and list2, which are sorted in ascending order, returns a list that\n",
    "combines the two lists in ascending order, e.g. merge([1,3,5,11,12],\n",
    "[2,4,6,8]) returns [1,2,3,4,5,6,8,11,12]. (Hint: For starters, you will\n",
    "need a while loop that compares the smallest item in each list. Please do not use\n",
    "any of Python’s sorting function; apart from anything else, that is very\n",
    "inefficient in this context) [30 Marks]\n"
   ]
  },
  {
   "cell_type": "code",
   "execution_count": null,
   "id": "6f5d3fa7-8d4a-44ca-8c1e-82547370a64a",
   "metadata": {},
   "outputs": [],
   "source": [
    "def merge(list1, list2):\n",
    "    # Write your code here\n",
    "    pass"
   ]
  },
  {
   "cell_type": "code",
   "execution_count": null,
   "id": "127b4042-fb20-49c0-aaf7-adf3bc9f865d",
   "metadata": {},
   "outputs": [],
   "source": [
    "assert merge([1,3,5,11,12],[2,4,6,8]) == [1,2,3,4,5,6,8,11,12]\n",
    "print('Correct, good job!')"
   ]
  },
  {
   "cell_type": "markdown",
   "id": "e96b121f-2adf-4815-ab78-e5388d7769c7",
   "metadata": {},
   "source": [
    "## Question 6 (2017 CITS 1401 Exam)\n",
    "\n",
    "Define a definition for the function, pow(x, N), to compute xN for integer x and\n",
    "integer N, e.g. 31001. (Large numbers will require long integers.) For large N, a\n",
    "recursive function can be more efficient than multiplying x N times, so a\n",
    "recursive function will be awarded more marks. Specifically, if you create a\n",
    "function that uses repeated multiplication it will be awarded a maximum of [10\n",
    "marks]. However, if you write a recursive function, your solution will be\n",
    "marked out of [20 marks]. Hint (for recursive solution): What happens if you\n",
    "divide N by 2, i.e. first solve pow(x, N//2).\n"
   ]
  },
  {
   "cell_type": "code",
   "execution_count": null,
   "id": "07d6b5ac-708c-4eb3-9246-f9b35dbb1a85",
   "metadata": {},
   "outputs": [],
   "source": [
    "def pow(x, n):\n",
    "    # Write your code here\n",
    "    pass"
   ]
  },
  {
   "cell_type": "code",
   "execution_count": null,
   "id": "ffcb4b70-7257-45c0-8816-4d5822852237",
   "metadata": {},
   "outputs": [],
   "source": [
    "assert pow(2,4) == 16\n",
    "print('Correct, good job!')"
   ]
  },
  {
   "cell_type": "markdown",
   "id": "320d2c21-2af3-4665-b588-8a0e1e681d99",
   "metadata": {},
   "source": [
    "# Solutions\n",
    "\n",
    "These are my examples on solutions for the above"
   ]
  },
  {
   "cell_type": "markdown",
   "id": "339463bc-1733-49a7-a1fc-92d25d04872d",
   "metadata": {},
   "source": [
    "### Question 1\n",
    "\n",
    "Write a recursive function that takes in one argument n and computes Fn, the nth value of the Fibonacci sequence.\n",
    "\n",
    "Fibonacci sequence is a sequence where the next item in the sequence is the sum of its two predecessors, where item 0 = 0 and item 1 = 1.\n",
    "\n",
    "Basically, this is an example of a fibonacci sequence - `0,1,1,2,3,5,8`\n",
    "\n",
    "The recursive step is `Fn = Fn-1 + Fn-2`\n",
    "\n",
    "The base condition is when we reach item 2, which is the sum of item 0 and item 1 which are predefined as the base items: `F(2) = 1 + 0 = 1`\n",
    "\n",
    "Programmatically, this is:"
   ]
  },
  {
   "cell_type": "code",
   "execution_count": null,
   "id": "735a4b55-2e4a-4735-928e-f0d2f3a17f0e",
   "metadata": {},
   "outputs": [],
   "source": [
    "def fibonacci(n):\n",
    "    # Fibonacci is a sequence of integers sums eg: 0,1,1,2,3,5,8 etc.\n",
    "    # Our base case is when n = 1 and n = 0\n",
    "    if n == 0:\n",
    "        return 0\n",
    "    elif n == 1:\n",
    "        return 1\n",
    "    return fibonacci(n-1) + fibonacci(n-2)\n",
    "        "
   ]
  },
  {
   "cell_type": "code",
   "execution_count": null,
   "id": "eb6d1105-ee83-4a6c-908f-ab5cd891a724",
   "metadata": {},
   "outputs": [],
   "source": [
    "assert fibonacci(1) == 1\n",
    "assert fibonacci(8) == 21\n",
    "print('Correct, good job!')"
   ]
  },
  {
   "cell_type": "markdown",
   "id": "7971d8e0-9f4a-4d6f-99df-d3e647036c6f",
   "metadata": {},
   "source": [
    "### Question 2\n",
    "\n",
    "Write a recursive function that takes in one argument n, and returns a list of the fibonacci sequence up to and including the nth value.\n",
    "\n",
    "So with this, we want to get a list of the fibonacci sequence, to `n-1` and then add `Fn` to the end of the list where `Fn` is the sum of the last two indexes of the list."
   ]
  },
  {
   "cell_type": "code",
   "execution_count": null,
   "id": "94d0e94d-ae40-4734-8c91-8dc5fe28888c",
   "metadata": {},
   "outputs": [],
   "source": [
    "def fibonacci(n):\n",
    "    if n == 0:\n",
    "        return [0]\n",
    "    if n == 1:\n",
    "        return [0,1]\n",
    "    result = fibonacci(n-1)\n",
    "    return result + [result[-1] + result[-2]]\n",
    "    "
   ]
  },
  {
   "cell_type": "code",
   "execution_count": null,
   "id": "e1950588-1e56-42c6-b56e-48186fb9c5b3",
   "metadata": {},
   "outputs": [],
   "source": [
    "assert fibonacci(1) == [0,1] or fibonacci(1) == [1]\n",
    "assert fibonacci(4) == [0,1,1,2,3] or fibonacci(1) == [1,1,2,3]\n",
    "print('Correct, good job!')"
   ]
  },
  {
   "cell_type": "markdown",
   "id": "5ae1e46d-3395-46ca-a41a-01bb2107d0ba",
   "metadata": {},
   "source": [
    "### Question 3\n",
    "\n",
    "Write a recursive function which takes in a string, and returns the string in reverse. The only string operation you can perform if required is concatenation (adding one string to another).\n",
    "\n",
    "Well we start with the last character of the string, and then add the last character of the remaining string repeatedly until the remaining string is finished.\n",
    "\n",
    "Essentially, the pattern or 'recursive' step is `end_of_string + remaining_string`, and our base stage is when `remaining_string = ''`. At this point, the reverse of `end_of_string` would just be `end_of_string` since it's just one character.\n",
    "\n",
    "so programmatically, the recursive step is `reverse(string) = string[-1] + reverse(string[0:-1])`, and then our base state is `reverse(string) = string if len(string) == 1`.\n",
    "\n",
    "Programmatically this is:"
   ]
  },
  {
   "cell_type": "code",
   "execution_count": null,
   "id": "a807eb38-3333-44ef-a833-9e85cd0ceeb6",
   "metadata": {},
   "outputs": [],
   "source": [
    "def reverse(string):\n",
    "    if len(string) == 1:\n",
    "        return string\n",
    "    return string[-1] + reverse(string[0:-1])"
   ]
  },
  {
   "cell_type": "code",
   "execution_count": null,
   "id": "72abcf3c-96ce-49c7-85a7-1a348087c051",
   "metadata": {},
   "outputs": [],
   "source": [
    "assert reverse('pie') == 'eip'\n",
    "assert reverse('n2nl  fd') == 'df  ln2n'\n",
    "print('Correct, good job!')"
   ]
  },
  {
   "cell_type": "markdown",
   "id": "11552e18-d7fe-4d4a-b247-48060639100e",
   "metadata": {},
   "source": [
    "### Question 4\n",
    "\n",
    "Write a recursive function that calculates the factorial of n\n",
    "\n",
    "So factorial of 7 would be: `7! = 7 * 6 * 5 * 4 * 3 * 2 * 1`\n",
    "\n",
    "Essentially the pattern or 'recursive' step is `n! = n * n-1!`\n",
    "\n",
    "What is our base case though. When do we stop. When does `n! = n * n-1` stop being correct? Well, factorial 0 is 1. Or we can say that factorial 1 is the lowest. Because at this point, it is `1! = 1`.\n",
    "\n",
    "Programmatically, this is:"
   ]
  },
  {
   "cell_type": "code",
   "execution_count": null,
   "id": "b83986f7-d1cc-4f04-8321-2b669c357bf1",
   "metadata": {},
   "outputs": [],
   "source": [
    "def factorial(n):\n",
    "    if n == 0:\n",
    "        return 1\n",
    "    return n * factorial(n-1)"
   ]
  },
  {
   "cell_type": "code",
   "execution_count": null,
   "id": "e7ff9d6a-c024-4ddb-bf35-b82c4f6dea00",
   "metadata": {},
   "outputs": [],
   "source": [
    "assert factorial(0) == 1\n",
    "assert factorial (4) == 24 \n",
    "print('Correct, good job!')"
   ]
  },
  {
   "cell_type": "markdown",
   "id": "93cb8d39-5655-4faf-b49f-423ed630b48a",
   "metadata": {},
   "source": [
    "## Question 5 (2017 CITS 1401 Exam)\n",
    "\n",
    "Write a definition for the function merge(list1, list2), that, given two\n",
    "lists: list1 and list2, which are sorted in ascending order, returns a list that\n",
    "combines the two lists in ascending order, e.g. merge([1,3,5,11,12],\n",
    "[2,4,6,8]) returns [1,2,3,4,5,6,8,11,12]. (Hint: For starters, you will\n",
    "need a while loop that compares the smallest item in each list. Please do not use\n",
    "any of Python’s sorting function; apart from anything else, that is very\n",
    "inefficient in this context) [30 Marks]\n"
   ]
  },
  {
   "cell_type": "code",
   "execution_count": null,
   "id": "ff4e8f8e-1feb-41b6-ab8c-908d5a7db1bd",
   "metadata": {},
   "outputs": [],
   "source": [
    "def merge(list1, list2):\n",
    "    # Base condition is if one of the lists is empty\n",
    "    # I do it like this because I couldn't remember if python lists had a pop by index function (it does), so I avoided them\n",
    "    if not len(list1) or not len(list2):\n",
    "        return list1 if not len(list2) else list2\n",
    "    if list1[0] <= list2[0]:\n",
    "        return [list1[0]] + merge(list1[1:len(list1)], list2)\n",
    "    else:\n",
    "        return [list2[0]] + merge(list2[1:len(list2)], list1)\n",
    "    "
   ]
  },
  {
   "cell_type": "code",
   "execution_count": null,
   "id": "bd74aea1-d321-454c-bf49-e7e3da5426cf",
   "metadata": {},
   "outputs": [],
   "source": [
    "assert merge([1,3,5,11,12],[2,4,6,8]) == [1,2,3,4,5,6,8,11,12]\n",
    "print('Correct, good job!')"
   ]
  },
  {
   "cell_type": "code",
   "execution_count": null,
   "id": "dd2779c8-fcfd-4810-b040-44e49dce10db",
   "metadata": {},
   "outputs": [],
   "source": [
    "def merge(list1, list2):\n",
    "    # This is an approach using a 'while loop'\n",
    "    if not len(list1) or not len(list2):\n",
    "        return list1 if not len(list2) else list2\n",
    "    counter = 0\n",
    "    while list1[counter] <= list2[0]:\n",
    "        counter += 1\n",
    "    return [list1[0:counter]] + merge(list2, list1[counter:len(list1)]) if counter else merge(list2, list1)\n",
    "    "
   ]
  },
  {
   "cell_type": "code",
   "execution_count": null,
   "id": "dc856fca-fa20-45ca-9e31-14e669a6f6cc",
   "metadata": {},
   "outputs": [],
   "source": [
    "assert merge([1,3,5,11,12],[2,4,6,8]) == [1,2,3,4,5,6,8,11,12]\n",
    "print('Correct, good job!')"
   ]
  },
  {
   "cell_type": "code",
   "execution_count": null,
   "id": "9566496e-138f-47f3-9624-2333ef3649aa",
   "metadata": {},
   "outputs": [],
   "source": [
    "def merge(list1, list2):\n",
    "    # This is an approach using a 'while loop'\n",
    "    # I had forgotten that the loop itself needs to protect against out of bounds reference\n",
    "    if not len(list1) or not len(list2):\n",
    "        return list1 if not len(list2) else list2\n",
    "    counter = 0\n",
    "    while list1[counter] <= list2[0]:\n",
    "        counter += 1\n",
    "        if counter == len(list1):\n",
    "            return list1 + list2\n",
    "    # I had also forgotten that now that I'm returning lists instead of items in a list, I don't need to contain them within a list themselves.\n",
    "    return list1[0:counter] + merge(list2, list1[counter:len(list1)]) if counter else merge(list2, list1)\n",
    "    "
   ]
  },
  {
   "cell_type": "code",
   "execution_count": null,
   "id": "7ee3e33c-a2fc-432b-adc9-54b101639752",
   "metadata": {},
   "outputs": [],
   "source": [
    "assert merge([1,3,5,11,12],[2,4,6,8]) == [1,2,3,4,5,6,8,11,12]\n",
    "print('Correct, good job!')"
   ]
  },
  {
   "cell_type": "code",
   "execution_count": null,
   "id": "c8f99d57-7683-4d33-818b-1bce8dfd5753",
   "metadata": {},
   "outputs": [],
   "source": [
    "def merge(list1, list2):\n",
    "    # Now this is using pop & a while loop (which is probably what they envisioned)\n",
    "    # It is a hell of a lot easier and cleaner. *although* this is probably actually slower.\n",
    "    result = []\n",
    "    while list1[0] <= list2[0]:\n",
    "        result.append(list1.pop(0))\n",
    "        if not len(list1):\n",
    "            return result + list2\n",
    "    return result + merge(list2, list1)\n",
    "    "
   ]
  },
  {
   "cell_type": "code",
   "execution_count": null,
   "id": "6de67189-a5bb-47f1-926c-d70facef2b1f",
   "metadata": {},
   "outputs": [],
   "source": [
    "assert merge([1,3,5,11,12],[2,4,6,8]) == [1,2,3,4,5,6,8,11,12]\n",
    "print('Correct, good job!')"
   ]
  },
  {
   "cell_type": "markdown",
   "id": "460c03eb-0178-4405-aa07-cd79c112353d",
   "metadata": {},
   "source": [
    "## Question 6 (2017 CITS 1401 Exam)\n",
    "\n",
    "Define a definition for the function, pow(x, N), to compute xN for integer x and\n",
    "integer N, e.g. 31001. (Large numbers will require long integers.) For large N, a\n",
    "recursive function can be more efficient than multiplying x N times, so a\n",
    "recursive function will be awarded more marks. Specifically, if you create a\n",
    "function that uses repeated multiplication it will be awarded a maximum of [10\n",
    "marks]. However, if you write a recursive function, your solution will be\n",
    "marked out of [20 marks]. Hint (for recursive solution): What happens if you\n",
    "divide N by 2, i.e. first solve pow(x, N//2).\n",
    "\n",
    "> I actually have to investigate what kind of answer they would have been looking for here. Sorry but my explanation for my choice is kind of pointless otherwise."
   ]
  },
  {
   "cell_type": "code",
   "execution_count": 35,
   "id": "deb21d47-84a4-4b6c-9b0c-f5f2ba26c065",
   "metadata": {},
   "outputs": [],
   "source": [
    "def pow(x, n):\n",
    "    if n == 1 or n == 0:\n",
    "        return x if n == 1 else 1\n",
    "    else:\n",
    "        m = pow(x, n // 2)\n",
    "        return m * m * pow(x, n % 2)\n",
    "        "
   ]
  },
  {
   "cell_type": "code",
   "execution_count": 36,
   "id": "561534d7-1c9b-40d0-a7f3-e49ab5d1e479",
   "metadata": {},
   "outputs": [
    {
     "name": "stdout",
     "output_type": "stream",
     "text": [
      "515377520732011331036461129765621272702107522001\n",
      "515377520732011331036461129765621272702107522001\n",
      "28421709430404007434844970703125\n",
      "28421709430404007434844970703125\n",
      "1326443518324400147398656\n",
      "1326443518324400147398656\n",
      "Correct, good job!\n"
     ]
    }
   ],
   "source": [
    "print(pow(3,100))\n",
    "print(3 ** 100)\n",
    "# print(pow(3,100))\n",
    "print(pow(5,45))\n",
    "print(5 ** 45)\n",
    "print(pow(6,31))\n",
    "print(6 ** 31)\n",
    "# assert pow(3,6) == 3 ** 6\n",
    "# assert pow(3,100) == 3 ** 100\n",
    "print('Correct, good job!')"
   ]
  },
  {
   "cell_type": "code",
   "execution_count": 10,
   "id": "783d7f88-fbcf-4b91-9905-f80d7e5a5b56",
   "metadata": {},
   "outputs": [
    {
     "name": "stdout",
     "output_type": "stream",
     "text": [
      "9\n",
      "0b110000\n",
      "0b110\n"
     ]
    }
   ],
   "source": [
    "print(3 ** 2)\n",
    "print(bin(6 * 8))\n",
    "print(bin(6))"
   ]
  }
 ],
 "metadata": {
  "kernelspec": {
   "display_name": "Python 3 (ipykernel)",
   "language": "python",
   "name": "python3"
  },
  "language_info": {
   "codemirror_mode": {
    "name": "ipython",
    "version": 3
   },
   "file_extension": ".py",
   "mimetype": "text/x-python",
   "name": "python",
   "nbconvert_exporter": "python",
   "pygments_lexer": "ipython3",
   "version": "3.12.3"
  }
 },
 "nbformat": 4,
 "nbformat_minor": 5
}
