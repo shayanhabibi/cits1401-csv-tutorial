{
 "cells": [
  {
   "cell_type": "markdown",
   "metadata": {},
   "source": [
    "#### Question 1\n",
    "\n",
    "Define a Python function `stringexpand(name)` which, given a string, returns the expanded string such that white space is added after each character of the input string. For example, `stringexpand(\"Adam\")` returns \"A d a m\"."
   ]
  },
  {
   "cell_type": "code",
   "execution_count": 1,
   "metadata": {},
   "outputs": [
    {
     "data": {
      "text/plain": [
       "'A d a m'"
      ]
     },
     "execution_count": 1,
     "metadata": {},
     "output_type": "execute_result"
    }
   ],
   "source": [
    "def stringexpand(string):\n",
    "    result = \"\"\n",
    "    for c in string:\n",
    "        result += c + \" \"\n",
    "    return result.strip()\n",
    "\n",
    "stringexpand(\"Adam\")"
   ]
  },
  {
   "cell_type": "markdown",
   "metadata": {},
   "source": [
    "#### Question 2"
   ]
  },
  {
   "cell_type": "code",
   "execution_count": 2,
   "metadata": {},
   "outputs": [
    {
     "name": "stdout",
     "output_type": "stream",
     "text": [
      "True\n",
      "False\n"
     ]
    }
   ],
   "source": [
    "def palindrome(string):\n",
    "    if len(string) == 1:\n",
    "        return True\n",
    "    elif len(string) == 2:\n",
    "        return string[0].lower() == string[1].lower()\n",
    "    if string[0].lower() == string[-1].lower():\n",
    "        return palindrome(string[1:-1])\n",
    "    else:\n",
    "        return False\n",
    "\n",
    "print(palindrome(\"Racecar\"))\n",
    "print(palindrome(\"dude\"))"
   ]
  },
  {
   "cell_type": "markdown",
   "metadata": {},
   "source": [
    "#### Question 3"
   ]
  },
  {
   "cell_type": "code",
   "execution_count": 5,
   "metadata": {},
   "outputs": [
    {
     "data": {
      "text/plain": [
       "[(222222, 55), (21222, 35)]"
      ]
     },
     "execution_count": 5,
     "metadata": {},
     "output_type": "execute_result"
    }
   ],
   "source": [
    "def sortdict(inp):\n",
    "    result = [(x,y) for x,y in inp.items()]\n",
    "    result.sort(key = lambda x: x[1], reverse = True)\n",
    "    return result\n",
    "\n",
    "sortdict({21222:35,222222:55})"
   ]
  },
  {
   "cell_type": "markdown",
   "metadata": {},
   "source": [
    "#### Question 4"
   ]
  },
  {
   "cell_type": "code",
   "execution_count": 7,
   "metadata": {},
   "outputs": [
    {
     "data": {
      "text/plain": [
       "10"
      ]
     },
     "execution_count": 7,
     "metadata": {},
     "output_type": "execute_result"
    }
   ],
   "source": [
    "def sumdigits(n):\n",
    "    if n < 10:\n",
    "        return n\n",
    "    return sumdigits(n // 10) + n % 10\n",
    "\n",
    "sumdigits(1234)"
   ]
  },
  {
   "cell_type": "markdown",
   "metadata": {},
   "source": [
    "#### Question 5"
   ]
  },
  {
   "cell_type": "code",
   "execution_count": 8,
   "metadata": {},
   "outputs": [
    {
     "data": {
      "text/plain": [
       "2.6666666666666665"
      ]
     },
     "execution_count": 8,
     "metadata": {},
     "output_type": "execute_result"
    }
   ],
   "source": [
    "def seriesexp(x, tol):\n",
    "    def int_fact(n):\n",
    "        if n < 2:\n",
    "            return 1\n",
    "        return int_fact(n-1) * n\n",
    "    result = 1\n",
    "    n = 1\n",
    "    while (x**n / int_fact(n)) >= tol:\n",
    "        result += (x**n / int_fact(n))\n",
    "        n += 1\n",
    "    return result\n",
    "\n",
    "seriesexp(1,0.1)"
   ]
  },
  {
   "cell_type": "markdown",
   "metadata": {},
   "source": [
    "#### Question 6"
   ]
  },
  {
   "cell_type": "code",
   "execution_count": 11,
   "metadata": {},
   "outputs": [
    {
     "data": {
      "text/plain": [
       "28.0"
      ]
     },
     "execution_count": 11,
     "metadata": {},
     "output_type": "execute_result"
    }
   ],
   "source": [
    "def multiply_lists(lst):\n",
    "    def impl(inp):\n",
    "        if isinstance(inp, int) or isinstance(inp, float):\n",
    "            return inp\n",
    "        elif len(inp) == 0:\n",
    "            return 1\n",
    "        result = 0\n",
    "        for x in inp:\n",
    "            result = result * impl(x) if result else impl(x)\n",
    "        return result\n",
    "    return impl(lst) if len(lst) > 0 else 0\n",
    "\n",
    "multiply_lists([1,2,[],3.5,4])"
   ]
  },
  {
   "cell_type": "markdown",
   "metadata": {},
   "source": [
    "#### Question 7"
   ]
  },
  {
   "cell_type": "code",
   "execution_count": 23,
   "metadata": {},
   "outputs": [
    {
     "data": {
      "text/plain": [
       "['Smith Cummins Adam',\n",
       " 'Smith Cummins Payne',\n",
       " 'Smith Lyon Adam',\n",
       " 'Smith Lyon Payne',\n",
       " 'Finch Cummins Adam',\n",
       " 'Finch Cummins Payne',\n",
       " 'Finch Lyon Adam',\n",
       " 'Finch Lyon Payne']"
      ]
     },
     "execution_count": 23,
     "metadata": {},
     "output_type": "execute_result"
    }
   ],
   "source": [
    "def team_maker(pool1, pool2, pool3):\n",
    "    result = set()\n",
    "    for x in pool1:\n",
    "        for y in pool2:\n",
    "            for z in pool3:\n",
    "                result.add(f\"{x} {y} {z}\")\n",
    "    return [x for x in result]\n",
    "\n",
    "team_maker(['Smith','Finch'],['Cummins', 'Lyon'], ['Adam', 'Payne'])"
   ]
  },
  {
   "cell_type": "markdown",
   "metadata": {},
   "source": [
    "#### Question 8"
   ]
  },
  {
   "cell_type": "code",
   "execution_count": 19,
   "metadata": {},
   "outputs": [
    {
     "name": "stdout",
     "output_type": "stream",
     "text": [
      "['s_no', 'first name', 'middle name', 'last name', 'date of birth', 'address', 'phone']\n",
      "Ali.Khan,Khan$1252000\n",
      "John.Smith,Smith$1122008\n",
      "\n",
      "logins.txt has been generated\n"
     ]
    }
   ],
   "source": [
    "def useraccount(filename):\n",
    "    def sanitize(value):\n",
    "        return value.strip().lower() if isinstance(value, str) else value\n",
    "    try:\n",
    "        file = open(filename, \"r\")\n",
    "    except:\n",
    "        print(f\"file '{filename}' not found\")\n",
    "        return\n",
    "    data_rows = []\n",
    "    headers = sanitize(file.readline()).split(',')\n",
    "    print(headers)\n",
    "    line = file.readline()\n",
    "    while line:\n",
    "        raw_dat = sanitize(line).split(',')\n",
    "        if len(raw_dat) != len(headers):\n",
    "            line = file.readline()\n",
    "            continue\n",
    "        row = {}\n",
    "        for key,val in zip(headers, raw_dat):\n",
    "            row[key] = sanitize(val)\n",
    "        data_rows.append(row)\n",
    "        line = file.readline()\n",
    "    file.close()\n",
    "    nfile = open(\"logins.txt\", \"w\")\n",
    "    content = \"\"\n",
    "    for row in data_rows:\n",
    "        content += f\"{row[\"first name\"].capitalize()}.{row[\"last name\"].capitalize()}\"\n",
    "        content += f\",{row[\"last name\"].capitalize()}${row[\"date of birth\"].replace('/','')}\"\n",
    "        content += '\\n'\n",
    "    nfile.write(content)\n",
    "    nfile.close()\n",
    "    print(\"logins.txt has been generated\")\n",
    "\n",
    "useraccount(\"userdata.txt\")"
   ]
  }
 ],
 "metadata": {
  "kernelspec": {
   "display_name": "Python 3",
   "language": "python",
   "name": "python3"
  },
  "language_info": {
   "codemirror_mode": {
    "name": "ipython",
    "version": 3
   },
   "file_extension": ".py",
   "mimetype": "text/x-python",
   "name": "python",
   "nbconvert_exporter": "python",
   "pygments_lexer": "ipython3",
   "version": "3.12.3"
  }
 },
 "nbformat": 4,
 "nbformat_minor": 2
}
